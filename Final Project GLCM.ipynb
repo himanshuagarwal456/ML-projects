{
 "cells": [
  {
   "cell_type": "code",
   "execution_count": 2,
   "metadata": {
    "collapsed": true
   },
   "outputs": [],
   "source": [
    "import numpy as np # linear algebra\n",
    "import pandas as pd # data processing, CSV file I/O (e.g. pd.read_csv)\n",
    "import skimage, os\n",
    "from skimage.morphology import ball, disk, dilation, binary_erosion, remove_small_objects, erosion, closing, reconstruction, binary_closing\n",
    "from skimage.measure import label,regionprops, perimeter\n",
    "from skimage.morphology import binary_dilation, binary_opening\n",
    "from skimage.filters import roberts, sobel\n",
    "from skimage import measure, feature\n",
    "from skimage.segmentation import clear_border\n",
    "from skimage import data\n",
    "from scipy import ndimage as ndi\n",
    "import matplotlib.pyplot as plt\n",
    "from mpl_toolkits.mplot3d.art3d import Poly3DCollection\n",
    "import scipy.misc\n",
    "import dicom # for reading dicom files\n",
    "import os # for doing directory operations \n",
    "import cv2\n",
    "import numpy as np\n",
    "import scipy.ndimage as ndi\n",
    "import skimage\n",
    "from skimage.feature import greycomatrix, greycoprops\n",
    "from skimage import data"
   ]
  },
  {
   "cell_type": "code",
   "execution_count": 3,
   "metadata": {
    "collapsed": false
   },
   "outputs": [],
   "source": [
    "def glcm_EH(image):\n",
    "    glcm = greycomatrix(new_image,distances=[7],angles=[0],levels=256, symmetric=True, normed=True)\n",
    "    homogenity = greycoprops(glcm, 'homogeneity')[0, 0]\n",
    "    energy= greycoprops(glcm, 'energy')[0, 0]\n",
    "    correlation = greycoprops(glcm, 'correlation')[0,0]\n",
    "    dissimilar = greycoprops(glcm, 'dissimilarity')[0,0]\n",
    "    return homogenity, energy, correlation, dissimilar\n",
    "\n",
    "\n",
    "data_dir = 'C:/Users/annam/Desktop/ML/ML - Project/stage1/'\n",
    "patients = os.listdir(data_dir)\n",
    "labels_df = pd.read_csv('C:/Users/annam/Desktop/ML/ML - Project/stage1_labels.csv', index_col=0)\n",
    "IMG_PX_SIZE = 150\n",
    "new_image = []\n",
    "df_patient = pd.DataFrame(columns=('patient','hg','eg', 'co', 'di'))\n",
    "for patient in patients[:2]: # change 2 to len(patients) to run for all patients\n",
    "    #label = labels_df.get_value(patient, 'cancer')\n",
    "    path = data_dir + patient\n",
    "    slices = [dicom.read_file(path + '/' + s) for s in os.listdir(path)]\n",
    "    slices.sort(key = lambda x: int(x.ImagePositionPatient[2]))\n",
    "    #print(slices[0].pixel_array.shape)\n",
    "    df = pd.DataFrame(columns=('hg','eg', 'co', 'di'))\n",
    "    for num,each_slice in enumerate(slices[:len(slices)]):\n",
    "        new_image = np.array(cv2.resize(np.array(each_slice.pixel_array),(IMG_PX_SIZE,IMG_PX_SIZE)))\n",
    "        new_image+=2000\n",
    "        new_image = new_image/64\n",
    "        new_image = new_image.astype(np.int8)\n",
    "        new_image = new_image.clip(min=0)\n",
    "        #segmented_ct_scan = get_segmented_lungs(new_image)\n",
    "        #segmented_ct_scan\n",
    "        hg, eg, co, di = glcm_EH(new_image)\n",
    "        lst = [[hg,eg, co,di]]\n",
    "        df = df.append(pd.DataFrame(lst, columns=['hg','eg', 'co', 'di']),ignore_index=True)\n",
    "    hg, eg, co, di = list(df.mean())\n",
    "    lst_patient = [[patient, hg,eg,co,di]]\n",
    "    df_patient = df_patient.append(pd.DataFrame(lst_patient, columns=['patient','hg','eg', 'co', 'di']),ignore_index=True)"
   ]
  },
  {
   "cell_type": "code",
   "execution_count": 4,
   "metadata": {
    "collapsed": false
   },
   "outputs": [
    {
     "data": {
      "text/html": [
       "<div>\n",
       "<table border=\"1\" class=\"dataframe\">\n",
       "  <thead>\n",
       "    <tr style=\"text-align: right;\">\n",
       "      <th></th>\n",
       "      <th>patient</th>\n",
       "      <th>hg</th>\n",
       "      <th>eg</th>\n",
       "      <th>co</th>\n",
       "      <th>di</th>\n",
       "    </tr>\n",
       "  </thead>\n",
       "  <tbody>\n",
       "    <tr>\n",
       "      <th>0</th>\n",
       "      <td>0015ceb851d7251b8f399e39779d1e7d</td>\n",
       "      <td>0.583047</td>\n",
       "      <td>0.254195</td>\n",
       "      <td>0.798504</td>\n",
       "      <td>4.846441</td>\n",
       "    </tr>\n",
       "    <tr>\n",
       "      <th>1</th>\n",
       "      <td>0030a160d58723ff36d73f41b170ec21</td>\n",
       "      <td>0.523532</td>\n",
       "      <td>0.197310</td>\n",
       "      <td>0.764674</td>\n",
       "      <td>5.165976</td>\n",
       "    </tr>\n",
       "  </tbody>\n",
       "</table>\n",
       "</div>"
      ],
      "text/plain": [
       "                            patient        hg        eg        co        di\n",
       "0  0015ceb851d7251b8f399e39779d1e7d  0.583047  0.254195  0.798504  4.846441\n",
       "1  0030a160d58723ff36d73f41b170ec21  0.523532  0.197310  0.764674  5.165976"
      ]
     },
     "execution_count": 4,
     "metadata": {},
     "output_type": "execute_result"
    }
   ],
   "source": [
    "df_patient"
   ]
  },
  {
   "cell_type": "code",
   "execution_count": 128,
   "metadata": {
    "collapsed": true
   },
   "outputs": [],
   "source": [
    "df_patient.to_csv('GLCM_features_lungs.csv')"
   ]
  },
  {
   "cell_type": "code",
   "execution_count": null,
   "metadata": {
    "collapsed": true
   },
   "outputs": [],
   "source": []
  },
  {
   "cell_type": "code",
   "execution_count": null,
   "metadata": {
    "collapsed": true
   },
   "outputs": [],
   "source": []
  },
  {
   "cell_type": "code",
   "execution_count": null,
   "metadata": {
    "collapsed": true
   },
   "outputs": [],
   "source": []
  }
 ],
 "metadata": {
  "kernelspec": {
   "display_name": "Python 3",
   "language": "python",
   "name": "python3"
  },
  "language_info": {
   "codemirror_mode": {
    "name": "ipython",
    "version": 3
   },
   "file_extension": ".py",
   "mimetype": "text/x-python",
   "name": "python",
   "nbconvert_exporter": "python",
   "pygments_lexer": "ipython3",
   "version": "3.5.2"
  }
 },
 "nbformat": 4,
 "nbformat_minor": 2
}
